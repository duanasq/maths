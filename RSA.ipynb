{
 "cells": [
  {
   "cell_type": "markdown",
   "id": "956b1e0b",
   "metadata": {},
   "source": [
    "## Introduction\n",
    "\n",
    "The RSA encryption algorithm uses elementary number theory. We will learn the concepts and see how it works. You will be suprised how simple the RSA algorithm is. Don't be put off by the fancy sounding terms or symbols--\n",
    "these concepts only require arithmetic to understand.\n",
    "\n",
    "Click on each concept below to learn about it:\n",
    "\n",
    "- gcd, modulo arithmetic\n",
    "- Bezout's Identity, extended gcd algorithm\n",
    "- coprime and Euler's totient function (also known as 'phi')\n",
    "- multiplicative inverses under a modulus\n",
    "- Euler's theorem\n"
   ]
  },
  {
   "cell_type": "markdown",
   "id": "3d6e48e7",
   "metadata": {},
   "source": [
    "## RSA Algorithm\n",
    "\n",
    "\n",
    "\n",
    "### Step 1. Generate a large number n which is the product of two large primes\n",
    "\n",
    "Pick two large primes, p and q. TODO explain 2^128"
   ]
  },
  {
   "cell_type": "code",
   "execution_count": null,
   "id": "34040d4a",
   "metadata": {},
   "outputs": [],
   "source": [
    "## Overview\n",
    "\n",
    "The core trick is to use a "
   ]
  },
  {
   "cell_type": "code",
   "execution_count": 2,
   "id": "55b82e1a",
   "metadata": {},
   "outputs": [
    {
     "name": "stdout",
     "output_type": "stream",
     "text": [
      "p = 210410793837887225582511423490780614887\n",
      "q = 310176223850799339151299235097610855667\n"
     ]
    }
   ],
   "source": [
    "p = random_prime(2^128)\n",
    "q = random_prime(2^128)\n",
    "print(f'p = {p}')\n",
    "print(f'q = {q}')"
   ]
  },
  {
   "cell_type": "markdown",
   "id": "b299c923",
   "metadata": {},
   "source": [
    "Multiply them together. This number `n = pq` is one component of your public key. It is extremely difficult for someone to reverse engineer what `p` and `q` are from `n` alone. Our security rests upon this fact."
   ]
  },
  {
   "cell_type": "code",
   "execution_count": 3,
   "id": "c29640ef",
   "metadata": {},
   "outputs": [
    {
     "name": "stdout",
     "output_type": "stream",
     "text": [
      "n = 65264425490084898278707085038821844388167762266346888835970011349896468514629\n"
     ]
    }
   ],
   "source": [
    "n = p*q\n",
    "print(f'n = {n}')"
   ]
  },
  {
   "cell_type": "markdown",
   "id": "f3d72333",
   "metadata": {},
   "source": [
    "### Step 2. Calculate the phi of n\n",
    "\n",
    "As mentioned in the concepts, `phi(n)` is just the number of natural numbers less than `n` which are coprime to `n`. Since phi is a product of two primes, using the fact that the phi function is multiplicative we can calculate "
   ]
  },
  {
   "cell_type": "code",
   "execution_count": null,
   "id": "e4b540a0",
   "metadata": {},
   "outputs": [],
   "source": [
    "This is \"Euler's Phi\" or \"Euler's Totient\" function. It is the number of natural \n",
    "numbers less than n which are coprime to n. Coprime means they don't share any factors other than 1¹. For example, \n",
    "`phi(12) = 4`, with 1, 5, 7 and 11 being the numbers coprime to 12:"
   ]
  },
  {
   "cell_type": "code",
   "execution_count": 2,
   "id": "28532f84",
   "metadata": {},
   "outputs": [
    {
     "data": {
      "text/plain": [
       "[1, 5, 7, 11]"
      ]
     },
     "execution_count": 2,
     "metadata": {},
     "output_type": "execute_result"
    }
   ],
   "source": [
    "[x for x in range(12) if gcd(x,12) ==1]"
   ]
  },
  {
   "cell_type": "markdown",
   "id": "74217a10",
   "metadata": {},
   "source": [
    "This number, phi(n), is key to the whole process. We are going to use it and [Euler's theorem](https://brilliant.org/wiki/eulers-theorem/)³ to do some magic. Euler's theorem:\n",
    "\n",
    "![Euler's theorem](https://wikimedia.org/api/rest_v1/media/math/render/svg/6a8462fedd83478425cea1c06dbb60c14c08c2bb)\n",
    "\n",
    "says, for any numbers a and n that are coprime to eachother, a raised to the phi(n)th power has a remainder of 1 modulo n³. We'll show how we use it soon. But first, we need a phi(n)!\n",
    "\n",
    "So how do we calculate phi(n) for our very large n? It turns out² that phi is 'multiplicative', which means if n has factors a and b, provided a and b are coprime, `phi(n) = phi(a)*phi(b)`. For example,`phi(3) = 2` and `phi(4) = 2`, and 3 and 4 are coprime, so `phi(12) = phi(3)*phi(4) = 4`. \n",
    "\n",
    "Every number can be written as a [product of primes](https://en.wikipedia.org/wiki/Fundamental_theorem_of_arithmetic), which means we can use this multiplicative rule to calculate it's phi. Our number n, is the product of two primes, so for us:\n",
    "\n",
    "`phi(n) = phi(p)*phi(q) = (p-1)(q-1)` since phi(p) where p is prime is p-1, since all numbers less than a prime number are coprime to it. So let's calculate our phi(n):\n"
   ]
  },
  {
   "cell_type": "code",
   "execution_count": 5,
   "id": "fa3ccf53",
   "metadata": {},
   "outputs": [
    {
     "name": "stdout",
     "output_type": "stream",
     "text": [
      "phi(n) is 16914598361843965801102184824339976023069014789976490429646475487346389658192\n"
     ]
    }
   ],
   "source": [
    "phi_n = (p-1)*(q-1)\n",
    "print(f'phi(n) is {phi_n}')"
   ]
  },
  {
   "cell_type": "markdown",
   "id": "0d67fe44",
   "metadata": {},
   "source": [
    "Since phi(n) is part of the secret sauce, we must also keep it secret. It is easy to calculate phi(n) if we know the\n",
    "prime factors of n, but very difficult otherwise. This is another fact upon which our security rests."
   ]
  },
  {
   "cell_type": "markdown",
   "id": "eeea1dbb",
   "metadata": {},
   "source": [
    "```\n",
    "I pick two large primes p and q.\n",
    "\n",
    "I calculate their product, n = pq.\n",
    "\n",
    "I calculate phi(n), which in this case is just phi(p)*phi(q).\n",
    "\n",
    "I pick an e which is coprime to phi(n).\n",
    "\n",
    "I calculate the multiplicative inverse of e mod phi(n), it d, where e*d = 1 mod phi(n)\n",
    "\n",
    "I publish n and e, and keep p,q and d secret.\n",
    "\n",
    "You pick a number m which is coprime to n (and less than n). This number is the secret message you want to send me. \n",
    "\n",
    "You raise m to the power of e and take the remainder modulo n, let's call that y, so y = m^e mod n.\n",
    "\n",
    "I take your y, and raise it to the power of d. y^d = m^(e*d). Since e*d = 1 mod phi(n), y^d = m^(e*d)= m^(k*phi(n) + 1) = m^(k*phi(n))*m = (m^phi(n))^k*m. Since m is coprime to n we can apply the fact a^phi(n) = 1 so (m^phi) = 1 mod n, so y^d = (m^phi(n))^k*m = m mod n. So now I have your secret message, m.\n",
    "```\n",
    "\n",
    "You can see that the facts we exploited to recover m from m^e were that we had a number d which we could use to get a power of 1 + k*phi(n), and then we were able to use Euler's theorem. Pretty ingenious right?\n",
    "\n",
    "In order for an attacker to be able to deduce m they would need to deduce d. For that, they would need to deduce phi(n). If they new the prime factors of n that would be easy but they don't. In the next blog post we will talk about just how hard it is to deduce phi(n) for large numbers, and find the factors of large numbers.\n",
    "\n",
    "Homework Q. Is it equally as hard to deduce phi(n) as it is to find the factors of n for large n?"
   ]
  },
  {
   "cell_type": "markdown",
   "id": "fe7797e3",
   "metadata": {},
   "source": [
    "## Footnotes\n",
    "¹The technical definition of comprime is that their greatest common divisor is 1, ie. gcd(x,n) = 1. From this definition, \n",
    "the number 1 is coprime with all numbers.\n",
    "\n",
    "²There are [proofs](https://en.wikipedia.org/wiki/Euler%27s_totient_function#Phi_is_a_multiplicative_function) for Euler's phi function being multiplicative in elementary number theory.\n",
    "\n",
    "³The proofs of Euler's theorem a bit tricky, but you would learn it in an undergraduate number theory class. It's an extension to [Fermat's Little Theorem](https://brilliant.org/wiki/fermats-little-theorem/), which has an easier induction-based proof."
   ]
  },
  {
   "cell_type": "code",
   "execution_count": 100,
   "id": "fdc29bfb",
   "metadata": {},
   "outputs": [
    {
     "data": {
      "text/plain": [
       "16914598361843965801102184824339976023330355038022894813075807295101247862201"
      ]
     },
     "execution_count": 100,
     "metadata": {},
     "output_type": "execute_result"
    }
   ],
   "source": []
  },
  {
   "cell_type": "code",
   "execution_count": 121,
   "id": "8a7eb246",
   "metadata": {},
   "outputs": [
    {
     "name": "stdout",
     "output_type": "stream",
     "text": [
      "n is 16914598361843965801102184824339976023330355038022894813075807295101247862201\n",
      "phi_n is 16914598361843965801102184824339976023069014789976490429646475487346389658192\n"
     ]
    }
   ],
   "source": [
    "p = 143322513141273005153526045087974465773\n",
    "q = 118017734905131378275805762666883738237\n",
    "n = p*q\n",
    "print(f'n is {n}')\n",
    "e = 2021\n",
    "phi_n = (p-1)*(q-1)\n",
    "print(f'phi_n is {phi_n}')"
   ]
  },
  {
   "cell_type": "code",
   "execution_count": 124,
   "id": "ca7e0b17",
   "metadata": {},
   "outputs": [
    {
     "name": "stdout",
     "output_type": "stream",
     "text": [
      "d is -502165216086411651690317213983373855212340864620776559019687545393757238739\n",
      "d is 16412433145757554149411867610356602167856673925355713870626787941952632419453\n"
     ]
    },
    {
     "data": {
      "text/plain": [
       "1"
      ]
     },
     "execution_count": 124,
     "metadata": {},
     "output_type": "execute_result"
    }
   ],
   "source": [
    "gcd, d, _ = xgcd(e,phi_n)\n",
    "print(f'd is {d}')\n",
    "# make d positive\n",
    "d = mod(d, phi_n).lift()\n",
    "print(f'd is {d}')\n",
    "mod(e*d2, phi_n)"
   ]
  },
  {
   "cell_type": "code",
   "execution_count": 117,
   "id": "a732ceb0",
   "metadata": {},
   "outputs": [
    {
     "data": {
      "text/plain": [
       "1"
      ]
     },
     "execution_count": 117,
     "metadata": {},
     "output_type": "execute_result"
    }
   ],
   "source": []
  },
  {
   "cell_type": "code",
   "execution_count": 109,
   "id": "126cf4ef",
   "metadata": {},
   "outputs": [
    {
     "data": {
      "text/plain": [
       "10470396727201891135249620086044460369985352819239700618363396358499900267134"
      ]
     },
     "execution_count": 109,
     "metadata": {},
     "output_type": "execute_result"
    }
   ],
   "source": [
    "mod(1984, n)^e"
   ]
  },
  {
   "cell_type": "code",
   "execution_count": 118,
   "id": "578f8b66",
   "metadata": {},
   "outputs": [
    {
     "data": {
      "text/plain": [
       "1984"
      ]
     },
     "execution_count": 118,
     "metadata": {},
     "output_type": "execute_result"
    }
   ],
   "source": [
    "mod(10470396727201891135249620086044460369985352819239700618363396358499900267134, n)^d2"
   ]
  },
  {
   "cell_type": "code",
   "execution_count": 112,
   "id": "81f6c40b",
   "metadata": {},
   "outputs": [],
   "source": [
    "y = 14616297587505269588504140410958758376677359637867063545225654817658950123919"
   ]
  },
  {
   "cell_type": "code",
   "execution_count": 119,
   "id": "139cbe4d",
   "metadata": {},
   "outputs": [
    {
     "data": {
      "text/plain": [
       "9540721701204608500320657631138968649908991245244230508567315258226742830148"
      ]
     },
     "execution_count": 119,
     "metadata": {},
     "output_type": "execute_result"
    }
   ],
   "source": [
    "m = mod(y, n)^d2\n",
    "m = m.lift()\n",
    "m"
   ]
  },
  {
   "cell_type": "code",
   "execution_count": 91,
   "id": "7fdd5efc",
   "metadata": {},
   "outputs": [
    {
     "data": {
      "text/plain": [
       "14616297587505269588504140410958758376677359637867063545225654817658950123919"
      ]
     },
     "execution_count": 91,
     "metadata": {},
     "output_type": "execute_result"
    }
   ],
   "source": [
    "mod(m, my_n)^my_e"
   ]
  },
  {
   "cell_type": "code",
   "execution_count": 72,
   "id": "29f6e995",
   "metadata": {},
   "outputs": [
    {
     "data": {
      "text/plain": [
       "68"
      ]
     },
     "execution_count": 72,
     "metadata": {},
     "output_type": "execute_result"
    }
   ],
   "source": [
    "m_int% 256"
   ]
  },
  {
   "cell_type": "code",
   "execution_count": 77,
   "id": "1a3f8299",
   "metadata": {},
   "outputs": [
    {
     "ename": "TypeError",
     "evalue": "can't multiply sequence by non-int of type 'str'",
     "output_type": "error",
     "traceback": [
      "\u001b[0;31m---------------------------------------------------------------------------\u001b[0m",
      "\u001b[0;31mTypeError\u001b[0m                                 Traceback (most recent call last)",
      "\u001b[0;32m/tmp/ipykernel_102104/607277286.py\u001b[0m in \u001b[0;36m<module>\u001b[0;34m\u001b[0m\n\u001b[0;32m----> 1\u001b[0;31m \u001b[0;34m\"a\"\u001b[0m \u001b[0;34m*\u001b[0m \u001b[0;34m\"c\"\u001b[0m\u001b[0;34m\u001b[0m\u001b[0;34m\u001b[0m\u001b[0m\n\u001b[0m",
      "\u001b[0;31mTypeError\u001b[0m: can't multiply sequence by non-int of type 'str'"
     ]
    }
   ],
   "source": [
    "\"a\" * \"c\""
   ]
  },
  {
   "cell_type": "code",
   "execution_count": 93,
   "id": "f8992744",
   "metadata": {},
   "outputs": [
    {
     "data": {
      "text/plain": [
       "9540721701204608500320657631138968649908991245244230508567315258226742830148"
      ]
     },
     "execution_count": 93,
     "metadata": {},
     "output_type": "execute_result"
    }
   ],
   "source": [
    "37268444145330501954377568871636596288706997051735275424091075227448214180*256 + 68"
   ]
  },
  {
   "cell_type": "code",
   "execution_count": 84,
   "id": "965e2bde",
   "metadata": {},
   "outputs": [
    {
     "name": "stdout",
     "output_type": "stream",
     "text": [
      "37268444145330501954377568871636596288706997051735275424091075227448214180 68 D\n",
      "145579859942697273259287378404830454252761707233340919625355762607219586 164 ¤\n",
      "568671327901161223669091321893868961924850418880237967286545947684451 130 \n",
      "2221372374613911029957387976147925632518946948750929559713070108142 99 c\n",
      "8677235838335589960771046781827834502027136518558318592629180109 238 î\n",
      "33895452493498398284261901491514978523543502025618432002457734 205 Í\n",
      "132404111302728118297898052701230384857591804787572000009600 134 \n",
      "517203559776281712101164268364181190849967987451453125037 128 \n",
      "2020326405376100437895172923297582776757687450982238769 173 ­\n",
      "7891900021000392335528019231631182721709716605399370 49 1\n",
      "30827734457032782560656325123559307506678580489841 74 J\n",
      "120420837722784306877563770013903544947963205038 113 q\n",
      "470393897354626198740483476616810722452981269 174 ®\n",
      "1837476161541508588830013580534416884581958 21 \u0015\n",
      "7177641256021517925117240548962565955398 70 F\n",
      "28037661156334054394989220894385023263 70 F\n",
      "109522113891929899980426644118691497 31 \u001f\n",
      "427820757390351171798541578588638 169 ©\n",
      "1671174833556059264838053041361 222 Þ\n",
      "6528026693578356503273644692 209 Ñ\n",
      "25500104271790455090912674 148 \n",
      "99609782311681465198877 162 ¢\n",
      "389100712155005723433 29 \u001d",
      "\n",
      "1519924656855491107 41 )\n",
      "5937205690841762 35 #\n",
      "23192209729850 162 ¢\n",
      "90594569257 58 :\n",
      "353885036 41 )\n",
      "1382363 108 l\n",
      "5399 219 Û\n",
      "21 23 \u0017\n",
      "0 21 \u0015\n"
     ]
    }
   ],
   "source": [
    "m = 9540721701204608500320657631138968649908991245244230508567315258226742830148\n",
    "while m != 0:\n",
    "    m,r = divmod(m, 256)\n",
    "    print(m,r, chr(r))"
   ]
  },
  {
   "cell_type": "code",
   "execution_count": 4,
   "id": "eb24d9c8",
   "metadata": {},
   "outputs": [
    {
     "data": {
      "text/plain": [
       "675/4"
      ]
     },
     "execution_count": 4,
     "metadata": {},
     "output_type": "execute_result"
    }
   ],
   "source": [
    "d2700/16"
   ]
  },
  {
   "cell_type": "code",
   "execution_count": null,
   "id": "cb3b6d42",
   "metadata": {},
   "outputs": [],
   "source": []
  }
 ],
 "metadata": {
  "kernelspec": {
   "display_name": "SageMath 9.4",
   "language": "sage",
   "name": "sagemath"
  },
  "language_info": {
   "codemirror_mode": {
    "name": "ipython",
    "version": 3
   },
   "file_extension": ".py",
   "mimetype": "text/x-python",
   "name": "python",
   "nbconvert_exporter": "python",
   "pygments_lexer": "ipython3",
   "version": "3.10.1"
  }
 },
 "nbformat": 4,
 "nbformat_minor": 5
}
