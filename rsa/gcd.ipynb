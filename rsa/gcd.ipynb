{
 "cells": [
  {
   "cell_type": "code",
   "execution_count": 1,
   "id": "36ec61cb",
   "metadata": {},
   "outputs": [],
   "source": [
    "import numbthy"
   ]
  },
  {
   "cell_type": "code",
   "execution_count": 2,
   "id": "080fcf2b",
   "metadata": {},
   "outputs": [
    {
     "data": {
      "text/plain": [
       "6"
      ]
     },
     "execution_count": 2,
     "metadata": {},
     "output_type": "execute_result"
    }
   ],
   "source": [
    "numbthy.gcd(123456,987654)"
   ]
  },
  {
   "cell_type": "code",
   "execution_count": 11,
   "id": "ea0d197b",
   "metadata": {},
   "outputs": [],
   "source": [
    "a = 922337203685477580\n",
    "b = 3372036854327750"
   ]
  },
  {
   "cell_type": "code",
   "execution_count": 12,
   "id": "5a7a6879",
   "metadata": {},
   "outputs": [
    {
     "name": "stdout",
     "output_type": "stream",
     "text": [
      "CPU times: user 15 µs, sys: 2 µs, total: 17 µs\n",
      "Wall time: 21 µs\n"
     ]
    },
    {
     "data": {
      "text/plain": [
       "70"
      ]
     },
     "execution_count": 12,
     "metadata": {},
     "output_type": "execute_result"
    }
   ],
   "source": [
    "%time numbthy.gcd(a,b)"
   ]
  },
  {
   "cell_type": "code",
   "execution_count": 13,
   "id": "4c99bc95",
   "metadata": {},
   "outputs": [
    {
     "name": "stdout",
     "output_type": "stream",
     "text": [
      "CPU times: user 291 µs, sys: 0 ns, total: 291 µs\n",
      "Wall time: 295 µs\n",
      "CPU times: user 359 µs, sys: 51 µs, total: 410 µs\n",
      "Wall time: 414 µs\n"
     ]
    },
    {
     "data": {
      "text/plain": [
       "((2, 1), (5, 3), (7, 2), (23, 1), (1481, 1), (8081153, 1))"
      ]
     },
     "execution_count": 13,
     "metadata": {},
     "output_type": "execute_result"
    }
   ],
   "source": [
    "%time numbthy.factor(922337203685477580)\n",
    "%time numbthy.factor(3372036854327750)"
   ]
  },
  {
   "cell_type": "code",
   "execution_count": null,
   "id": "dd10037f",
   "metadata": {},
   "outputs": [],
   "source": []
  }
 ],
 "metadata": {
  "kernelspec": {
   "display_name": "Python 3",
   "language": "python",
   "name": "python3"
  },
  "language_info": {
   "codemirror_mode": {
    "name": "ipython",
    "version": 3
   },
   "file_extension": ".py",
   "mimetype": "text/x-python",
   "name": "python",
   "nbconvert_exporter": "python",
   "pygments_lexer": "ipython3",
   "version": "3.10.1"
  }
 },
 "nbformat": 4,
 "nbformat_minor": 5
}
