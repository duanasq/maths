{
 "cells": [
  {
   "cell_type": "code",
   "execution_count": 10,
   "metadata": {
    "collapsed": true
   },
   "outputs": [],
   "source": [
    "def generate_pairs(n):\n",
    "    mid = n/2\n",
    "    return map(lambda x: [x, n-x], range(1, mid+1))\n",
    "\n",
    "flatten = lambda l: [item for sublist in l for item in sublist]\n",
    "\n",
    "import itertools\n",
    "\n",
    "def sort_uniq(sequence):\n",
    "    return (x[0] for x in itertools.groupby(sorted(sequence)))"
   ]
  },
  {
   "cell_type": "code",
   "execution_count": 4,
   "metadata": {},
   "outputs": [
    {
     "data": {
      "text/plain": [
       "[]"
      ]
     },
     "execution_count": 4,
     "metadata": {},
     "output_type": "execute_result"
    }
   ],
   "source": [
    "pairs = generate_pairs(1)\n",
    "pairs"
   ]
  },
  {
   "cell_type": "code",
   "execution_count": 15,
   "metadata": {},
   "outputs": [
    {
     "name": "stdout",
     "output_type": "stream",
     "text": [
      "[[1, 5], [2, 4], [3, 3]]\n",
      "[[1, [[1, 4], [2, 3], [1, 1, 3], [1, 2, 2], [1, 1, 1, 2], [1, 1, 1, 1, 1], [1, 1, 1, 1, 1], [1, 1, 1, 2], [1, 1, 1, 2], [1, 2, 2], [1, 1, 1, 2], [1, 1, 1, 2]]], [2, [[1, 3], [2, 2], [1, 1, 2], [1, 1, 1, 1], [1, 1, 1, 1], [1, 1, 2], [1, 1, 2]]], [3, [[1, 2], [1, 1, 1], [1, 1, 1]]]]\n",
      "[[[1, 1, 4], [1, 2, 3], [1, 1, 1, 3], [1, 1, 2, 2], [1, 1, 1, 1, 2], [1, 1, 1, 1, 1, 1], [1, 1, 1, 1, 1, 1], [1, 1, 1, 1, 2], [1, 1, 1, 1, 2], [1, 1, 2, 2], [1, 1, 1, 1, 2], [1, 1, 1, 1, 2]], [[2, 1, 3], [2, 2, 2], [2, 1, 1, 2], [2, 1, 1, 1, 1], [2, 1, 1, 1, 1], [2, 1, 1, 2], [2, 1, 1, 2]], [[3, 1, 2], [3, 1, 1, 1], [3, 1, 1, 1]]]\n",
      "[[1, 1, 4], [1, 2, 3], [1, 1, 1, 3], [1, 1, 2, 2], [1, 1, 1, 1, 2], [1, 1, 1, 1, 1, 1], [1, 1, 1, 1, 1, 1], [1, 1, 1, 1, 2], [1, 1, 1, 1, 2], [1, 1, 2, 2], [1, 1, 1, 1, 2], [1, 1, 1, 1, 2], [2, 1, 3], [2, 2, 2], [2, 1, 1, 2], [2, 1, 1, 1, 1], [2, 1, 1, 1, 1], [2, 1, 1, 2], [2, 1, 1, 2], [3, 1, 2], [3, 1, 1, 1], [3, 1, 1, 1]]\n"
     ]
    }
   ],
   "source": [
    "ex = 6\n",
    "\n",
    "# This generates the number of ways to sum to a number using the natural numbers less than itself.\n",
    "#\n",
    "# Example of the data structure transformations in generate_sums(4)\n",
    "# [[1,3], [2,2]]\n",
    "#\n",
    "# [[1, [[1,2],[1,1,1]] ], [2, [[1,1]]] ]\n",
    "#\n",
    "# [ [[1,1,2],[1,1,1,1]], [[2,1,1]] ]\n",
    "#\n",
    "# [[1,1,2],[1,1,1,1],[2,1,1]] \n",
    "#\n",
    "# [[1,3],[2,2],[1,1,2],[1,1,1,1],[2,1,1]]\n",
    "\n",
    "def generate_sums(n):\n",
    "    if n == 1:\n",
    "        return [[1]]\n",
    "    \n",
    "    pairs = generate_pairs(n) \n",
    "    if n == ex: print pairs \n",
    "    \n",
    "    first_and_sums_of_second = map(lambda p: [p[0], generate_sums(p[1])], pairs)\n",
    "    if n == ex: print first_and_sums_of_second\n",
    " \n",
    "    recursive_sums = map(lambda p: map(lambda sums: [p[0]] + sums, p[1]), first_and_sums_of_second)\n",
    "    if n == ex: print recursive_sums\n",
    "        \n",
    "    recursive_sums = flatten(recursive_sums)\n",
    "    if n == ex: print recursive_sums\n",
    " \n",
    "    return pairs + map(sorted, recursive_sums)\n",
    "\n",
    "sums = generate_sums(6)"
   ]
  },
  {
   "cell_type": "code",
   "execution_count": 14,
   "metadata": {},
   "outputs": [
    {
     "data": {
      "text/plain": [
       "[[1, 1, 1, 1, 1, 1],\n",
       " [1, 1, 1, 1, 2],\n",
       " [1, 1, 1, 3],\n",
       " [1, 1, 2, 2],\n",
       " [1, 1, 4],\n",
       " [1, 2, 3],\n",
       " [1, 5],\n",
       " [2, 2, 2],\n",
       " [2, 4],\n",
       " [3, 3]]"
      ]
     },
     "execution_count": 14,
     "metadata": {},
     "output_type": "execute_result"
    }
   ],
   "source": [
    "list(sort_uniq(sums))"
   ]
  },
  {
   "cell_type": "code",
   "execution_count": 46,
   "metadata": {
    "collapsed": true
   },
   "outputs": [],
   "source": [
    "ex=4\n",
    "def generate_sums_with_cutoff(n, c): \n",
    "    pairs = generate_pairs(n)\n",
    "    if pairs == []:\n",
    "        return pairs\n",
    "    \n",
    "    pairs = filter(lambda p: c not in p, pairs)\n",
    "    if n == ex: print pairs \n",
    "    \n",
    "    first_and_sums_of_second = map(lambda p: [p[0], generate_sums_with_cutoff(p[1], p[0]-1)], pairs)\n",
    "    if n == ex: print first_and_sums_of_second\n",
    " \n",
    "    recursive_sums = map(lambda p: map(lambda sums: [p[0]] + sums, p[1]), first_and_sums_of_second)\n",
    "    if n == ex: print recursive_sums\n",
    "        \n",
    "    recursive_sums = flatten(recursive_sums)\n",
    "    if n == ex: print recursive_sums\n",
    " \n",
    "    return pairs + map(sorted, recursive_sums)\n"
   ]
  },
  {
   "cell_type": "code",
   "execution_count": 48,
   "metadata": {},
   "outputs": [
    {
     "name": "stdout",
     "output_type": "stream",
     "text": [
      "[[1, 3], [2, 2]]\n",
      "[[1, [[1, 2], [1, 1, 1]]], [2, []]]\n",
      "[[[1, 1, 2], [1, 1, 1, 1]], []]\n",
      "[[1, 1, 2], [1, 1, 1, 1]]\n",
      "[[2, 2]]\n",
      "[[2, []]]\n",
      "[[]]\n",
      "[]\n",
      "[[1, 3]]\n",
      "[[1, [[1, 2], [1, 1, 1]]]]\n",
      "[[[1, 1, 2], [1, 1, 1, 1]]]\n",
      "[[1, 1, 2], [1, 1, 1, 1]]\n",
      "[[2, 2]]\n",
      "[[2, []]]\n",
      "[[]]\n",
      "[]\n",
      "[[1, 3], [2, 2]]\n",
      "[[1, [[1, 2], [1, 1, 1]]], [2, []]]\n",
      "[[[1, 1, 2], [1, 1, 1, 1]], []]\n",
      "[[1, 1, 2], [1, 1, 1, 1]]\n",
      "[[2, 2]]\n",
      "[[2, []]]\n",
      "[[]]\n",
      "[]\n",
      "[[1, 3]]\n",
      "[[1, [[1, 2], [1, 1, 1]]]]\n",
      "[[[1, 1, 2], [1, 1, 1, 1]]]\n",
      "[[1, 1, 2], [1, 1, 1, 1]]\n",
      "[[1, 3], [2, 2]]\n",
      "[[1, [[1, 2], [1, 1, 1]]], [2, []]]\n",
      "[[[1, 1, 2], [1, 1, 1, 1]], []]\n",
      "[[1, 1, 2], [1, 1, 1, 1]]\n",
      "[[1, 3], [2, 2]]\n",
      "[[1, [[1, 2], [1, 1, 1]]], [2, []]]\n",
      "[[[1, 1, 2], [1, 1, 1, 1]], []]\n",
      "[[1, 1, 2], [1, 1, 1, 1]]\n"
     ]
    },
    {
     "data": {
      "text/plain": [
       "[[1, 1, 1, 1, 1, 1, 1, 1, 1],\n",
       " [1, 1, 1, 1, 1, 1, 1, 2],\n",
       " [1, 1, 1, 1, 1, 1, 3],\n",
       " [1, 1, 1, 1, 1, 1, 3],\n",
       " [1, 1, 1, 1, 1, 1, 3],\n",
       " [1, 1, 1, 1, 1, 1, 3],\n",
       " [1, 1, 1, 1, 1, 2, 2],\n",
       " [1, 1, 1, 1, 1, 4],\n",
       " [1, 1, 1, 1, 1, 4],\n",
       " [1, 1, 1, 1, 2, 3],\n",
       " [1, 1, 1, 1, 2, 3],\n",
       " [1, 1, 1, 1, 2, 3],\n",
       " [1, 1, 1, 1, 2, 3],\n",
       " [1, 1, 1, 1, 2, 3],\n",
       " [1, 1, 1, 1, 5],\n",
       " [1, 1, 1, 2, 2, 2],\n",
       " [1, 1, 1, 2, 4],\n",
       " [1, 1, 1, 2, 4],\n",
       " [1, 1, 1, 3, 3],\n",
       " [1, 1, 1, 3, 3],\n",
       " [1, 1, 1, 3, 3],\n",
       " [1, 1, 1, 3, 3],\n",
       " [1, 1, 1, 6],\n",
       " [1, 1, 2, 2, 3],\n",
       " [1, 1, 2, 2, 3],\n",
       " [1, 1, 2, 2, 3],\n",
       " [1, 1, 2, 2, 3],\n",
       " [1, 1, 2, 5],\n",
       " [1, 1, 3, 4],\n",
       " [1, 1, 3, 4],\n",
       " [1, 1, 3, 4],\n",
       " [1, 1, 3, 4],\n",
       " [1, 1, 7],\n",
       " [1, 2, 2, 2, 2],\n",
       " [1, 2, 2, 4],\n",
       " [1, 2, 2, 4],\n",
       " [1, 2, 2, 4],\n",
       " [1, 2, 3, 3],\n",
       " [1, 2, 3, 3],\n",
       " [1, 2, 3, 3],\n",
       " [1, 2, 6],\n",
       " [1, 3, 5],\n",
       " [1, 3, 5],\n",
       " [1, 4, 4],\n",
       " [1, 4, 4],\n",
       " [1, 8],\n",
       " [2, 2, 2, 3],\n",
       " [2, 2, 5],\n",
       " [2, 3, 4],\n",
       " [2, 7],\n",
       " [3, 3, 3],\n",
       " [3, 6],\n",
       " [4, 5]]"
      ]
     },
     "execution_count": 48,
     "metadata": {},
     "output_type": "execute_result"
    }
   ],
   "source": [
    "sorted(generate_sums_with_cutoff(9,0))"
   ]
  },
  {
   "cell_type": "code",
   "execution_count": null,
   "metadata": {
    "collapsed": true
   },
   "outputs": [],
   "source": []
  }
 ],
 "metadata": {
  "kernelspec": {
   "display_name": "Python 2",
   "language": "python",
   "name": "python2"
  },
  "language_info": {
   "codemirror_mode": {
    "name": "ipython",
    "version": 2
   },
   "file_extension": ".py",
   "mimetype": "text/x-python",
   "name": "python",
   "nbconvert_exporter": "python",
   "pygments_lexer": "ipython2",
   "version": "2.7.14"
  }
 },
 "nbformat": 4,
 "nbformat_minor": 2
}
