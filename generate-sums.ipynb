{
 "cells": [
  {
   "cell_type": "code",
   "execution_count": 1,
   "metadata": {
    "collapsed": true
   },
   "outputs": [],
   "source": [
    "def generate_pairs(n):\n",
    "    mid = n/2\n",
    "    return map(lambda x: [x, n-x], range(1, mid+1))"
   ]
  },
  {
   "cell_type": "code",
   "execution_count": 92,
   "metadata": {},
   "outputs": [
    {
     "data": {
      "text/plain": [
       "[1, 0]"
      ]
     },
     "execution_count": 92,
     "metadata": {},
     "output_type": "execute_result"
    }
   ],
   "source": [
    "pairs = generate_pairs(1)\n",
    "pairs"
   ]
  },
  {
   "cell_type": "code",
   "execution_count": 101,
   "metadata": {},
   "outputs": [
    {
     "name": "stdout",
     "output_type": "stream",
     "text": [
      "[[1, 3], [2, 2]]\n",
      "[[1, [[1, 2], [1, 1, 1], [1, 1, 1]]], [2, [[1, 1], [1, 1]]]]\n",
      "[[[1, 1, 2], [1, 1, 1, 1], [1, 1, 1, 1]], [[2, 1, 1], [2, 1, 1]]]\n",
      "[[1, 1, 2], [1, 1, 1, 1], [1, 1, 1, 1], [2, 1, 1], [2, 1, 1]]\n"
     ]
    },
    {
     "data": {
      "text/plain": [
       "[[1, 3], [2, 2], [1, 1, 2], [1, 1, 1, 1], [1, 1, 1, 1], [2, 1, 1], [2, 1, 1]]"
      ]
     },
     "execution_count": 101,
     "metadata": {},
     "output_type": "execute_result"
    }
   ],
   "source": [
    "flatten = lambda l: [item for sublist in l for item in sublist]\n",
    "\n",
    "ex = 4\n",
    "\n",
    "# This generates the number of ways to sum to a number using the natural numbers less than itself.\n",
    "#\n",
    "# Example of the data structure transformations in generate_sums(4)\n",
    "# [[1,3], [2,2]]\n",
    "#\n",
    "# [[1, [[1,2],[1,1,1]] ], [2, [[1,1]]] ]\n",
    "#\n",
    "# [ [[1,1,2],[1,1,1,1]], [[2,1,1]] ]\n",
    "#\n",
    "# [[1,1,2],[1,1,1,1],[2,1,1]] \n",
    "#\n",
    "# [[1,3],[2,2],[1,1,2],[1,1,1,1],[2,1,1]]\n",
    "\n",
    "def generate_sums(n):\n",
    "    if n == 1:\n",
    "        return [[1]]\n",
    "    \n",
    "    pairs = generate_pairs(n) \n",
    "    if n == ex: print pairs \n",
    "    \n",
    "    \n",
    "    first_and_sums_of_second = map(lambda p: [p[0], generate_sums(p[1])], pairs)\n",
    "    if n == ex: print first_and_sums_of_second\n",
    " \n",
    "    recursive_sums = map(lambda p: map(lambda sums: [p[0]] + sums, p[1]), first_and_sums_of_second)\n",
    "    if n == ex: print recursive_sums\n",
    "        \n",
    "    recursive_sums = flatten(recursive_sums)\n",
    "    if n == ex: print recursive_sums\n",
    " \n",
    "    return pairs + recursive_sums\n",
    "\n",
    "generate_sums(4)"
   ]
  },
  {
   "cell_type": "code",
   "execution_count": null,
   "metadata": {
    "collapsed": true
   },
   "outputs": [],
   "source": []
  }
 ],
 "metadata": {
  "kernelspec": {
   "display_name": "Python 2",
   "language": "python",
   "name": "python2"
  },
  "language_info": {
   "codemirror_mode": {
    "name": "ipython",
    "version": 2
   },
   "file_extension": ".py",
   "mimetype": "text/x-python",
   "name": "python",
   "nbconvert_exporter": "python",
   "pygments_lexer": "ipython2",
   "version": "2.7.14"
  }
 },
 "nbformat": 4,
 "nbformat_minor": 2
}
